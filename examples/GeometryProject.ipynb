{
 "cells": [
  {
   "cell_type": "markdown",
   "metadata": {},
   "source": [
    "# Transmission line simulation with pysonnet\n",
    "Let's setup the notebook. Define the full path (including the file name) of the sonnet file we want to make, and define the sonnet directory. We will need them later to run the project."
   ]
  },
  {
   "cell_type": "code",
   "execution_count": 1,
   "metadata": {},
   "outputs": [],
   "source": [
    "import logging\n",
    "import numpy as np\n",
    "import pysonnet as ps\n",
    "# gdspy is available via 'pip install gdspy'\n",
    "# or at https://github.com/heitzmann/gdspy\n",
    "import gdspy as gp\n",
    "\n",
    "sonnet_file_path = r\"C:/Users/slab/Desktop/Yueheng_Sonnet/test.son\"\n",
    "path_to_sonnet = r\"C:/Program Files/Sonnet Software/18.56/\"\n",
    "\n",
    "# Set up logging to the console\n",
    "log = logging.getLogger()\n",
    "log.setLevel(logging.INFO) # Only prints project.run() information. Set to logging.DEBUG for more detail\n",
    "log.addHandler(logging.StreamHandler())"
   ]
  },
  {
   "cell_type": "markdown",
   "metadata": {},
   "source": [
    "## Make a simple geometry with gdspy\n",
    "We can make a cool wavy transmission line using the gdspy.Path class\n",
    "\n",
    "The result can be easily viewed using gdspy's built in layout viewer (uncomment the last line)"
   ]
  },
  {
   "cell_type": "code",
   "execution_count": 2,
   "metadata": {},
   "outputs": [],
   "source": [
    "# Geometric constants\n",
    "box_x, box_y = 100, 100  # size of the box\n",
    "width = 5  # transmission line width\n",
    "layer = 0  # layer for gds format\n",
    "datatype = 1  # datatype for gds format\n",
    "\n",
    "# Initialize the path\n",
    "path = gp.Path(width, initial_point=(box_x / 3, 0))\n",
    "\n",
    "# Define the cosine path and it's derivative\n",
    "def path_function(t):\n",
    "    return -box_x / 6 * (np.cos(np.pi * t) - 1), t * box_y\n",
    "\n",
    "def d_path_function(t):\n",
    "    return np.pi * box_x / 6 * np.sin(np.pi * t), box_y\n",
    "\n",
    "path.parametric(path_function, curve_derivative=d_path_function,\n",
    "                layer=layer, datatype=datatype)\n",
    "\n",
    "# Add the path to a cell\n",
    "cell = gp.Cell('feedline', exclude_from_current=True)\n",
    "cell.add(path);\n",
    "\n",
    "# Show the result\n",
    "#gp.LayoutViewer(cells=cell)"
   ]
  },
  {
   "cell_type": "markdown",
   "metadata": {},
   "source": [
    "## Configure the project settings\n",
    "The first step is to pick the box settings and the materials that we will use for the sonnet simulation"
   ]
  },
  {
   "cell_type": "code",
   "execution_count": 3,
   "metadata": {},
   "outputs": [],
   "source": [
    "# The GeometryProject is the most basic Sonnet project type\n",
    "project = ps.GeometryProject()\n",
    "\n",
    "# The default length unit for Sonnet is mils,so let's change it\n",
    "project.set_units(length='um')\n",
    "\n",
    "# Then we can set up the box\n",
    "project.setup_box(box_x, box_y, 200, 200)\n",
    "\n",
    "# Define the metal types and if they are on the box top/bottom\n",
    "# high kinetic inductance superconductor\n",
    "project.define_metal(\"general\", \"PtSi\", ls=21)\n",
    "# low kinetic inductance superconductor\n",
    "project.define_metal(\"general\", \"Nb\", ls=0.08)\n",
    "project.set_box_cover(\"free space\", top=True)\n",
    "project.set_box_cover(\"custom\", name=\"Nb\", bottom=True)\n",
    "\n",
    "# Lets add a dielectric layer under the microstrip and air above\n",
    "project.add_dielectric(\"air\", layer, thickness=1000)\n",
    "project.add_dielectric(\"silicon\", layer + 1, thickness=100,\n",
    "                       epsilon=11.9, dielectric_loss=0.004,\n",
    "                       conductivity=4.4e-4)\n",
    "\n",
    "# We can also define technology layers\n",
    "project.define_technology_layer(\"metal\", \"microstrip\", layer,\n",
    "                                \"PtSi\", fill_type=\"diagonal\")\n",
    "\n",
    "# We also might want to see the current density\n",
    "project.set_options(current_density=True)"
   ]
  },
  {
   "cell_type": "markdown",
   "metadata": {},
   "source": [
    "## Load the geometry into a pysonnet project\n",
    "The polygons can be extracted using the get_polygons() method for the Cell, CellReference or CellArray.\n",
    "\n",
    "The by_spec keyword is useful for separating different layers and datatypes to assign groups of polygons to different Sonnet layers with different properties. "
   ]
  },
  {
   "cell_type": "code",
   "execution_count": 4,
   "metadata": {},
   "outputs": [],
   "source": [
    "polygons = cell.get_polygons(by_spec=True)\n",
    "# Pick the polygons that I want\n",
    "microstrip_polygons = polygons[(layer, datatype)]"
   ]
  },
  {
   "cell_type": "markdown",
   "metadata": {},
   "source": [
    "We can now add the polygons and ports to our project."
   ]
  },
  {
   "cell_type": "code",
   "execution_count": 5,
   "metadata": {},
   "outputs": [],
   "source": [
    "project.add_polygons(\"metal\", microstrip_polygons,\n",
    "                     tech_layer=\"microstrip\")\n",
    "project.add_port(\"standard\", 1, 2 * box_x / 3, box_y,\n",
    "                 resistance=50)\n",
    "project.add_port(\"standard\", 2, box_x / 3, 0, resistance=50)"
   ]
  },
  {
   "cell_type": "markdown",
   "metadata": {},
   "source": [
    "## Set up the simulation\n",
    "After defining the box, materials, geometry, and ports, we can choose what kind of simulation we are doing."
   ]
  },
  {
   "cell_type": "code",
   "execution_count": 6,
   "metadata": {},
   "outputs": [],
   "source": [
    "project.add_syz_parameter_file(\n",
    "    file_type='touchstone',    # write a .sNp file\n",
    "    file_name='test.s2p'       # name it test.s2p (default: $BASENAME.s2p)\n",
    ")"
   ]
  },
  {
   "cell_type": "code",
   "execution_count": 7,
   "metadata": {},
   "outputs": [],
   "source": [
    "# Add the frequency sweep to the project\n",
    "project.add_frequency_sweep(\"abs\", f1=4, f2=5)\n",
    "# Select an analysis (doesn't need to be done if running the project)\n",
    "project.set_analysis(\"frequency sweep\")\n",
    "# Make the sonnet file\n",
    "project.make_sonnet_file(sonnet_file_path)\n",
    "\n",
    "# Run the project\n",
    "# project.run(\"frequency sweep\")"
   ]
  },
  {
   "cell_type": "code",
   "execution_count": 8,
   "metadata": {},
   "outputs": [
    {
     "name": "stderr",
     "output_type": "stream",
     "text": [
      "Testing sonnet\n",
      "ELECTROMAGNETIC ANALYSIS OF 3-D PLANAR CIRCUITS\n",
      "Version 18.56\n",
      "Copyright (c) 1986-2022 Sonnet Software Inc.\n",
      "All rights reserved.\n",
      "Run 1:  Fri May 23 14:24:04 2025.  uchicago4.1.85014.\n",
      "Em version 18.56 (64-bit Windows) on ziqian-li-mem local.\n",
      "Project:  C:\\Users\\slab\\Desktop\\pysonnet\\examples\\test.son.\n",
      "Begin electromagnetic simulation using frequency sweep:\n",
      "Single Frequency = 1 GHZ\n",
      "Frequency:  1 GHZ\n",
      "Subsectioning time:  0.001 seconds.\n",
      "Circuit requires 1 subsection and 1 MB of memory.\n",
      "Threads:  using 64 thread(s), 64 core(s) available.\n",
      "Waveguide mode time:  0.004 seconds.\n",
      "Matrix fill time:  0.022 seconds.\n",
      "Matrix solve time:  0.026 seconds.\n",
      "De-embedded S-Parameters. 50 Ohm Port Terminations.\n",
      "Magnitude/Angle. Touchstone Format. Matrix Order (line #1: S11 S12 S13 ...).\n",
      "1.00000000 1.000000 -0.260\n",
      "! P1 F=1.0 Eeff=(1.00693 + j0) Z0=(152.57 + j0)\n",
      "Total time per frequency:  0.159 seconds.\n",
      "Post-Analysis information for em run 1:\n",
      "Total time for 1 frequency:  0.184 seconds.\n",
      "Em errors detected: 0    Em warnings detected: 0.\n",
      "Em simulation completed Fri May 23 14:24:04 2025.\n"
     ]
    }
   ],
   "source": [
    "# Locate Sonnet\n",
    "project.locate_sonnet(path_to_sonnet)"
   ]
  },
  {
   "cell_type": "code",
   "execution_count": 9,
   "metadata": {},
   "outputs": [
    {
     "name": "stderr",
     "output_type": "stream",
     "text": [
      "ELECTROMAGNETIC ANALYSIS OF 3-D PLANAR CIRCUITS\n",
      "Version 18.56\n",
      "Copyright (c) 1986-2022 Sonnet Software Inc.\n",
      "All rights reserved.\n",
      "Run 1:  Fri May 23 14:24:08 2025.  .\n",
      "Em version 18.56 (64-bit Windows) on ziqian-li-mem local.\n",
      "Project:  C:\\Users\\slab\\Desktop\\Yueheng_Sonnet\\test.son.\n",
      "Begin electromagnetic simulation using frequency sweep:\n",
      "ABS Start = 4, Stop = 5 GHZ\n",
      "Frequency:  4 GHZ\n",
      "Subsectioning time:  0.029 seconds.\n",
      "Circuit requires 2320 subsections and 44 MB of memory.\n",
      "Threads:  using 64 thread(s), 64 core(s) available.\n",
      "Waveguide mode time:  0.018 seconds.\n",
      "Matrix fill time:  0.333 seconds.\n",
      "Matrix solve time:  0.454 seconds.\n",
      "De-embedded S-Parameters. 50 Ohm Port Terminations.\n",
      "Magnitude/Angle. Touchstone Format. (S11 S21 S12 S22).\n",
      "4.00000000 0.128018 81.907 0.991746 -8.104 0.991746 -8.104 0.128018 81.907\n",
      "! P1 F=4.0 Eeff=(44.2929 - j0.170233) Z0=(224.305 + j0.431071)\n",
      "! P2 F=4.0 Eeff=(44.2929 - j0.170233) Z0=(224.305 + j0.431071)\n",
      "Total time per frequency:  1 second.\n",
      "Frequency:  5 GHZ\n",
      "Waveguide mode time:  0.019 seconds.\n",
      "Matrix fill time:  0.331 seconds.\n",
      "Matrix solve time:  0.454 seconds.\n",
      "5.00000000 0.159234 79.912 0.987209 -10.10 0.987209 -10.10 0.159234 79.912\n",
      "! P1 F=5.0 Eeff=(44.2936 - j0.168881) Z0=(224.299 + j0.427645)\n",
      "! P2 F=5.0 Eeff=(44.2936 - j0.168881) Z0=(224.299 + j0.427645)\n",
      "Total time per frequency:  1 second.\n",
      "ABS: SNR = 44.3055 dB (72.1776 dB Goal) for S1_1 at 4.5 GHz.\n",
      "ABS: Time = 0 seconds.\n",
      "Frequency:  4.5 GHZ\n",
      "Waveguide mode time:  0.018 seconds.\n",
      "Matrix fill time:  0.339 seconds.\n",
      "Matrix solve time:  0.462 seconds.\n",
      "4.50000000 0.143684 80.907 0.989595 -9.104 0.989595 -9.104 0.143684 80.907\n",
      "! P1 F=4.5 Eeff=(44.2932 - j0.169482) Z0=(224.302 + j0.429167)\n",
      "! P2 F=4.5 Eeff=(44.2932 - j0.169482) Z0=(224.302 + j0.429167)\n",
      "Total time per frequency:  1 second.\n",
      "ABS: SNR = 103.12 dB (72.1776 dB Goal) for S1_1 at 4.205 GHz.\n",
      "ABS: Time = 0.001 seconds.\n",
      "Post-Analysis information for em run 1:\n",
      "Total time for 3 frequencies:  4 seconds.\n",
      "Em errors detected: 0    Em warnings detected: 0.\n",
      "Em simulation completed Fri May 23 14:24:12 2025.\n"
     ]
    }
   ],
   "source": [
    "# Run the project\n",
    "project.run(\"frequency sweep\")"
   ]
  },
  {
   "cell_type": "code",
   "execution_count": 10,
   "metadata": {},
   "outputs": [],
   "source": [
    "# 3) Load the .s2p and plot S12\n",
    "from pysonnet.outputs import SYZParameter\n",
    "#import numpy as np\n",
    "import matplotlib.pyplot as plt\n"
   ]
  },
  {
   "cell_type": "code",
   "execution_count": 12,
   "metadata": {},
   "outputs": [
    {
     "data": {
      "image/png": "[encoded data removed]",
      "text/plain": [
       "<Figure size 640x480 with 1 Axes>"
      ]
     },
     "metadata": {},
     "output_type": "display_data"
    }
   ],
   "source": [
    "# read in the Touchstone file you just generated\n",
    "sp = SYZParameter.from_touchstone('C:/Users/slab/Desktop/Yueheng_Sonnet/test.s2p')\n",
    "# :contentReference[oaicite:1]{index=1}\n",
    "\n",
    "# frequencies (GHz) and the 2×2 S-matrix (complex) array\n",
    "f = sp.f                       # shape (N,) in GHz\n",
    "S = sp.value                   # shape (N, 2, 2)\n",
    "\n",
    "# pick out S12 = measurement at port 1 due to excitation at port 2\n",
    "s12 = S[:, 0, 1]\n",
    "\n",
    "# plot magnitude in dB\n",
    "plt.figure()\n",
    "plt.plot(f, 20*np.log10(np.abs(s12)), marker='o')\n",
    "plt.xlabel('Frequency (GHz)')\n",
    "plt.ylabel('S$_{12}$ (dB)')\n",
    "plt.title('S$_{12}$ vs Frequency')\n",
    "plt.grid(True)\n",
    "plt.show()"
   ]
  },
  {
   "cell_type": "code",
   "execution_count": 13,
   "metadata": {},
   "outputs": [
    {
     "data": {
      "text/plain": [
       "[array([[ 30.83333333,   0.        ],\n",
       "        [ 30.85423374,   1.62670825],\n",
       "        [ 30.91687379,   3.2531355 ],\n",
       "        [ 31.02107049,   4.87900539],\n",
       "        [ 31.1665205 ,   6.50405064],\n",
       "        [ 31.35280257,   8.12801709],\n",
       "        [ 31.57938074,   9.75066724],\n",
       "        [ 31.84560822,  11.37178313],\n",
       "        [ 32.15073189,  12.99116847],\n",
       "        [ 32.49389703,  14.60865003],\n",
       "        [ 32.87415236,  16.22407829],\n",
       "        [ 33.29045517,  17.83732744],\n",
       "        [ 33.74167639,  19.44829464],\n",
       "        [ 34.22660558,  21.05689896],\n",
       "        [ 34.74395574,  22.6630797 ],\n",
       "        [ 35.29236794,  24.26679457],\n",
       "        [ 35.87041573,  25.86801761],\n",
       "        [ 36.47660936,  27.466737  ],\n",
       "        [ 37.10939982,  29.06295287],\n",
       "        [ 37.76718275,  30.65667513],\n",
       "        [ 38.44830223,  32.24792144],\n",
       "        [ 39.15105453,  33.83671526],\n",
       "        [ 39.87369175,  35.42308407],\n",
       "        [ 41.37143105,  38.58866748],\n",
       "        [ 42.92679611,  41.74491608],\n",
       "        [ 44.52459919,  44.89205476],\n",
       "        [ 47.78522934,  51.15965121],\n",
       "        [ 51.02760993,  57.39205476],\n",
       "        [ 52.60295201,  60.49491608],\n",
       "        [ 54.12754546,  63.58866748],\n",
       "        [ 55.58691632,  66.67308407],\n",
       "        [ 56.28781267,  68.21171526],\n",
       "        [ 56.96731   ,  69.74792144],\n",
       "        [ 57.62382623,  71.28167513],\n",
       "        [ 58.25584262,  72.81295287],\n",
       "        [ 58.86190785,  74.341737  ],\n",
       "        [ 59.44064177,  75.86801761],\n",
       "        [ 59.99073879,  77.39179457],\n",
       "        [ 60.51097086,  78.9130797 ],\n",
       "        [ 61.00018996,  80.43189896],\n",
       "        [ 61.45733013,  81.94829464],\n",
       "        [ 61.88140883,  83.46232744],\n",
       "        [ 62.27152784,  84.97407829],\n",
       "        [ 62.62687346,  86.48365003],\n",
       "        [ 62.94671631,  87.99116847],\n",
       "        [ 63.2304104 ,  89.49678313],\n",
       "        [ 63.47739193,  91.00066724],\n",
       "        [ 63.68717768,  92.50301709],\n",
       "        [ 63.85936318,  94.00405064],\n",
       "        [ 63.99362082,  95.50400539],\n",
       "        [ 64.08969801,  97.0031355 ],\n",
       "        [ 64.14741561,  98.50170825],\n",
       "        [ 64.16666667, 100.        ],\n",
       "        [ 69.16666667, 100.        ],\n",
       "        [ 69.14576626,  98.37329175],\n",
       "        [ 69.08312621,  96.7468645 ],\n",
       "        [ 68.97892951,  95.12099461],\n",
       "        [ 68.8334795 ,  93.49594936],\n",
       "        [ 68.64719743,  91.87198291],\n",
       "        [ 68.42061926,  90.24933276],\n",
       "        [ 68.15439178,  88.62821687],\n",
       "        [ 67.84926811,  87.00883153],\n",
       "        [ 67.50610297,  85.39134997],\n",
       "        [ 67.12584764,  83.77592171],\n",
       "        [ 66.70954483,  82.16267256],\n",
       "        [ 66.25832361,  80.55170536],\n",
       "        [ 65.77339442,  78.94310104],\n",
       "        [ 65.25604426,  77.3369203 ],\n",
       "        [ 64.70763206,  75.73320543],\n",
       "        [ 64.12958427,  74.13198239],\n",
       "        [ 63.52339064,  72.533263  ],\n",
       "        [ 62.89060018,  70.93704713],\n",
       "        [ 62.23281725,  69.34332487],\n",
       "        [ 61.55169777,  67.75207856],\n",
       "        [ 60.84894547,  66.16328474],\n",
       "        [ 60.12630825,  64.57691593],\n",
       "        [ 58.62856895,  61.41133252],\n",
       "        [ 57.07320389,  58.25508392],\n",
       "        [ 55.47540081,  55.10794524],\n",
       "        [ 52.21477066,  48.84034879],\n",
       "        [ 48.97239007,  42.60794524],\n",
       "        [ 47.39704799,  39.50508392],\n",
       "        [ 45.87245454,  36.41133252],\n",
       "        [ 44.41308368,  33.32691593],\n",
       "        [ 43.71218733,  31.78828474],\n",
       "        [ 43.03269   ,  30.25207856],\n",
       "        [ 42.37617377,  28.71832487],\n",
       "        [ 41.74415738,  27.18704713],\n",
       "        [ 41.13809215,  25.658263  ],\n",
       "        [ 40.55935823,  24.13198239],\n",
       "        [ 40.00926121,  22.60820543],\n",
       "        [ 39.48902914,  21.0869203 ],\n",
       "        [ 38.99981004,  19.56810104],\n",
       "        [ 38.54266987,  18.05170536],\n",
       "        [ 38.11859117,  16.53767256],\n",
       "        [ 37.72847216,  15.02592171],\n",
       "        [ 37.37312654,  13.51634997],\n",
       "        [ 37.05328369,  12.00883153],\n",
       "        [ 36.7695896 ,  10.50321687],\n",
       "        [ 36.52260807,   8.99933276],\n",
       "        [ 36.31282232,   7.49698291],\n",
       "        [ 36.14063682,   5.99594936],\n",
       "        [ 36.00637918,   4.49599461],\n",
       "        [ 35.91030199,   2.9968645 ],\n",
       "        [ 35.85258439,   1.49829175],\n",
       "        [ 35.83333333,   0.        ]])]"
      ]
     },
     "execution_count": 13,
     "metadata": {},
     "output_type": "execute_result"
    }
   ],
   "source": [
    "microstrip_polygons"
   ]
  },
  {
   "cell_type": "code",
   "execution_count": null,
   "metadata": {},
   "outputs": [],
   "source": []
  }
 ],
 "metadata": {
  "kernelspec": {
   "display_name": "sonnet",
   "language": "python",
   "name": "python3"
  },
  "language_info": {
   "codemirror_mode": {
    "name": "ipython",
    "version": 3
   },
   "file_extension": ".py",
   "mimetype": "text/x-python",
   "name": "python",
   "nbconvert_exporter": "python",
   "pygments_lexer": "ipython3",
   "version": "3.10.16"
  }
 },
 "nbformat": 4,
 "nbformat_minor": 2
}
